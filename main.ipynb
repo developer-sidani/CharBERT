{
 "cells": [
  {
   "cell_type": "code",
   "execution_count": null,
   "id": "initial_id",
   "metadata": {
    "ExecuteTime": {
     "end_time": "2023-11-24T14:16:50.474724Z",
     "start_time": "2023-11-24T14:16:39.200104Z"
    },
    "collapsed": true
   },
   "outputs": [],
   "source": [
    "!git clone https://github.com/developer-sidani/CharBERT.git"
   ]
  },
  {
   "cell_type": "code",
   "execution_count": null,
   "id": "90832c0292baaa4e",
   "metadata": {
    "collapsed": false
   },
   "outputs": [],
   "source": [
    "!pip install -q condacolab\n",
    "import condacolab\n",
    "condacolab.install()"
   ]
  },
  {
   "cell_type": "code",
   "execution_count": null,
   "metadata": {},
   "outputs": [],
   "source": [
    "!conda env create --name charbert -f CharBERT/requirements.yaml"
   ]
  },
  {
   "cell_type": "code",
   "execution_count": null,
   "metadata": {},
   "outputs": [],
   "source": [
    "%%bash\n",
    "\n",
    "cd CharBERT\n",
    "\n",
    "PYTHON_PATH=/usr/local/envs/charbert/bin/python\n",
    "$PYTHON_PATH --version"
   ]
  }
 ],
 "metadata": {
  "kernelspec": {
   "display_name": "Python 3",
   "language": "python",
   "name": "python3"
  },
  "language_info": {
   "codemirror_mode": {
    "name": "ipython",
    "version": 2
   },
   "file_extension": ".py",
   "mimetype": "text/x-python",
   "name": "python",
   "nbconvert_exporter": "python",
   "pygments_lexer": "ipython2",
   "version": "2.7.6"
  }
 },
 "nbformat": 4,
 "nbformat_minor": 5
}
